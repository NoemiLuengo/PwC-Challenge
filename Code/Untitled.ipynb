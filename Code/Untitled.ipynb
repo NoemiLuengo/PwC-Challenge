{
 "cells": [
  {
   "cell_type": "markdown",
   "id": "7a0272b3",
   "metadata": {},
   "source": [
    "# Useful commands"
   ]
  },
  {
   "cell_type": "markdown",
   "id": "10ddff11",
   "metadata": {},
   "source": [
    "pwd = show current directory\n",
    "cd = change directory\n",
    "ls = list files\n",
    "mkdir = make a new directory"
   ]
  },
  {
   "cell_type": "code",
   "execution_count": 1,
   "id": "75b56079",
   "metadata": {},
   "outputs": [
    {
     "data": {
      "text/plain": [
       "'C:\\\\Users\\\\noe_l\\\\Documents\\\\RapidMiner\\\\Repositories\\\\ue21510403'"
      ]
     },
     "execution_count": 1,
     "metadata": {},
     "output_type": "execute_result"
    }
   ],
   "source": [
    "pwd"
   ]
  },
  {
   "cell_type": "code",
   "execution_count": 2,
   "id": "52a7dbee",
   "metadata": {},
   "outputs": [
    {
     "name": "stdout",
     "output_type": "stream",
     "text": [
      " El volumen de la unidad C es Windows\n",
      " El número de serie del volumen es: 123E-4DB7\n",
      "\n",
      " Directorio de C:\\Users\\noe_l\\Documents\\RapidMiner\\Repositories\\ue21510403\n",
      "\n",
      "27/11/2023  19:03    <DIR>          .\n",
      "22/11/2023  14:59    <DIR>          ..\n",
      "27/11/2023  18:57    <DIR>          .ipynb_checkpoints\n",
      "22/11/2023  14:59    <DIR>          Connections\n",
      "23/11/2023  18:06    <DIR>          Data\n",
      "22/11/2023  15:10    <DIR>          Models\n",
      "22/11/2023  20:27    <DIR>          Process\n",
      "22/11/2023  15:11    <DIR>          Reports\n",
      "22/11/2023  15:11    <DIR>          Results\n",
      "27/11/2023  19:03             1.325 Untitled.ipynb\n",
      "               1 archivos          1.325 bytes\n",
      "               9 dirs  882.002.849.792 bytes libres\n"
     ]
    }
   ],
   "source": [
    "ls"
   ]
  },
  {
   "cell_type": "code",
   "execution_count": null,
   "id": "9401596f",
   "metadata": {},
   "outputs": [],
   "source": []
  }
 ],
 "metadata": {
  "kernelspec": {
   "display_name": "Python 3 (ipykernel)",
   "language": "python",
   "name": "python3"
  },
  "language_info": {
   "codemirror_mode": {
    "name": "ipython",
    "version": 3
   },
   "file_extension": ".py",
   "mimetype": "text/x-python",
   "name": "python",
   "nbconvert_exporter": "python",
   "pygments_lexer": "ipython3",
   "version": "3.11.5"
  }
 },
 "nbformat": 4,
 "nbformat_minor": 5
}
